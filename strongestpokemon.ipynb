{
 "cells": [
  {
   "cell_type": "markdown",
   "metadata": {},
   "source": [
    "# Strongest Pokemon in each game"
   ]
  },
  {
   "cell_type": "markdown",
   "metadata": {},
   "source": [
    "## Methodology\n",
    "\n",
    "dolor ipsum"
   ]
  },
  {
   "cell_type": "code",
   "execution_count": 540,
   "metadata": {},
   "outputs": [],
   "source": [
    "import urllib.request\n",
    "import codecs\n",
    "import re\n",
    "import math\n",
    "import numpy\n",
    "import csv\n",
    "import os.path"
   ]
  },
  {
   "cell_type": "markdown",
   "metadata": {},
   "source": [
    "## Gen I"
   ]
  },
  {
   "cell_type": "markdown",
   "metadata": {},
   "source": [
    "### Import data"
   ]
  },
  {
   "cell_type": "code",
   "execution_count": 542,
   "metadata": {},
   "outputs": [],
   "source": [
    "if(not(os.path.isdir('gen_i_htmls'))):\n",
    "    os.mkdir('gen_i_htmls')"
   ]
  },
  {
   "cell_type": "code",
   "execution_count": 552,
   "metadata": {},
   "outputs": [],
   "source": [
    "url = \"https://www.serebii.net/pokedex/\"\n",
    "\n",
    "urllib.request.urlretrieve(url, \"gen_i_htmls/gen_i.txt\")\n",
    "\n",
    "outputFile = codecs.open(\"gen_i_htmls/gen_i.txt\", \"r\", \"ISO-8859-1\")\n",
    "filestring = outputFile.read()\n",
    "\n",
    "dex = dict(re.findall(\"(?s)<option value=\\\"/pokedex/(.*?).shtml\\\">(.*?)</option>\", filestring, re.IGNORECASE))"
   ]
  },
  {
   "cell_type": "code",
   "execution_count": 550,
   "metadata": {},
   "outputs": [],
   "source": [
    "# Red and Blue Trades\n",
    "url = 'https://www.serebii.net/rb/trades.shtml'\n",
    "filename = 'gen_i_htmls/tradesrb.txt'\n",
    "\n",
    "urllib.request.urlretrieve(url, filename)\n",
    "\n",
    "outputFile = codecs.open(filename, \"r\", \"ISO-8859-1\")\n",
    "tradesourcerb = outputFile.read()\n",
    "\n",
    "\n",
    "# Yellow Trades\n",
    "url = 'https://www.serebii.net/yellow/trades.shtml'\n",
    "filename = 'gen_i_htmls/tradesyellow.txt'\n",
    "\n",
    "urllib.request.urlretrieve(url, filename)\n",
    "\n",
    "outputFile = codecs.open(filename, \"r\", \"ISO-8859-1\")\n",
    "tradesourceyellow = outputFile.read()\n",
    "\n",
    "\n",
    "# Red and Blue Gifts\n",
    "url = 'https://www.serebii.net/rb/gift.shtml'\n",
    "filename = 'gen_i_htmls/giftsrb.txt'\n",
    "\n",
    "urllib.request.urlretrieve(url, filename)\n",
    "\n",
    "outputFile = codecs.open(filename, \"r\", \"ISO-8859-1\")\n",
    "giftsourcerb = outputFile.read()\n",
    "\n",
    "# Yellow Gifts\n",
    "url = 'https://www.serebii.net/yellow/gift.shtml'\n",
    "filename = 'gen_i_htmls/giftsyellow.txt'\n",
    "\n",
    "urllib.request.urlretrieve(url, filename)\n",
    "\n",
    "outputFile = codecs.open(filename, \"r\", \"ISO-8859-1\")\n",
    "giftsourceyellow = outputFile.read()"
   ]
  },
  {
   "cell_type": "code",
   "execution_count": 164,
   "metadata": {},
   "outputs": [],
   "source": [
    "info = {}\n",
    "\n",
    "for key in dex:\n",
    "    url = \"https://www.serebii.net/pokedex/\" + key + \".shtml\"\n",
    "    file = \"gen_i_htmls/\" + dex[key] + \".txt\"\n",
    "    \n",
    "    urllib.request.urlretrieve(url, file)\n",
    "    \n",
    "    outputFile = codecs.open(file, \"r\", \"ISO-8859-1\")\n",
    "    info[key] = outputFile.read()"
   ]
  },
  {
   "cell_type": "code",
   "execution_count": 164,
   "metadata": {},
   "outputs": [],
   "source": [
    "info = {}\n",
    "\n",
    "for key in dex:\n",
    "    url = \"https://www.serebii.net/pokedex/\" + key + \".shtml\"\n",
    "    file = \"gen_i_htmls/\" + dex[key] + \".txt\"\n",
    "    \n",
    "    urllib.request.urlretrieve(url, file)\n",
    "    \n",
    "    outputFile = codecs.open(file, \"r\", \"ISO-8859-1\")\n",
    "    info[key] = outputFile.read()"
   ]
  },
  {
   "cell_type": "code",
   "execution_count": 426,
   "metadata": {},
   "outputs": [],
   "source": [
    "locations = {}\n",
    "\n",
    "for key in dex:\n",
    "    url = \"https://www.serebii.net/pokedex/location/\" + key + \".shtml#r\"\n",
    "    file = \"gen_i_htmls/\" + dex[key] + \"_loc\" +\".txt\"\n",
    "    \n",
    "    urllib.request.urlretrieve(url, file)\n",
    "    \n",
    "    outputFile = codecs.open(file, \"r\", \"ISO-8859-1\")\n",
    "    locations[key] = outputFile.read()"
   ]
  },
  {
   "cell_type": "markdown",
   "metadata": {},
   "source": [
    "### Parse Data"
   ]
  },
  {
   "cell_type": "code",
   "execution_count": 428,
   "metadata": {},
   "outputs": [],
   "source": [
    "searchstring = '(?s)Base Stats - Total: (.*?)</td>\\r\\n<td align=\"center\" class=\"fooinfo\">(.*?)</td>\\r\\n<td align=\"center\" class=\"fooinfo\">(.*?)</td>\\r\\n<td align=\"center\" class=\"fooinfo\">(.*?)</td>\\r\\n<td align=\"center\" class=\"fooinfo\">(.*?)</td>\\r\\n<td align=\"center\" class=\"fooinfo\">(.*?)</td></tr>\\r\\n'\n",
    "stats = {}\n",
    "\n",
    "for key in dex:\n",
    "    stats[key] = [int(num) for num in re.findall(searchstring, info[key], re.IGNORECASE)[0]]"
   ]
  },
  {
   "cell_type": "code",
   "execution_count": 465,
   "metadata": {},
   "outputs": [],
   "source": [
    "searchstring = '(?s)<img src=\"/pokearth/sprites/rb/(.*?).png\" border=\"0\" title=\"\" />.*?Trader requests a <a href=\"/pokedex-dp/(.*?).shtml\">'\n",
    "tradesrb = re.findall(searchstring,tradesourcerb,re.IGNORECASE)\n",
    "\n",
    "searchstring = '(?s)<img src=\"/pokearth/sprites/yellow/(.*?).png\" border=\"0\" title=\"\" />.*?Trader requests a <a href=\"/pokedex-dp/(.*?).shtml\">'\n",
    "tradesyellow = re.findall(searchstring,tradesourceyellow,re.IGNORECASE)"
   ]
  },
  {
   "cell_type": "code",
   "execution_count": 501,
   "metadata": {},
   "outputs": [],
   "source": [
    "searchstring = '(?s)a href=\"/pokedex/.*?.shtml\"><img  src=\"/pokearth/sprites/rb/(.*?).png\" border=\"0\" title=\".*?\" /></a></td></tr><tr>.*?<td class=\"label\">Level (.*?)</td>'\n",
    "giftsrb = re.findall(searchstring,giftsourcerb,re.IGNORECASE)\n",
    "\n",
    "searchstring = '(?s)a href=\"/pokedex/.*?.shtml\"><img  src=\"/pokearth/sprites/yellow/(.*?).png\" border=\"0\" title=\".*?\" /></a></td></tr><tr>.*?<td class=\"label\">Level (.*?)</td>'\n",
    "giftsyellow = re.findall(searchstring,giftsourceyellow,re.IGNORECASE)"
   ]
  },
  {
   "cell_type": "code",
   "execution_count": 429,
   "metadata": {},
   "outputs": [],
   "source": [
    "searchstring = 'not found in the wild'\n",
    "\n",
    "wildpokemon = {key: dex[key] for key in dex if not(bool(re.search(searchstring, locations[key])))}"
   ]
  },
  {
   "cell_type": "code",
   "execution_count": 447,
   "metadata": {},
   "outputs": [],
   "source": [
    "games = [key for key in locationstats['010']]"
   ]
  },
  {
   "cell_type": "code",
   "execution_count": 432,
   "metadata": {},
   "outputs": [],
   "source": [
    "searchstring = '(?s)<table class=\"dextable\"><tr > <td class=\"fooevo\" colspan=\"6\"><a name=\".*?\">(.*?)</a></td></tr>(.*?)</table>\\r\\n'\n",
    "\n",
    "subsearchstring = '(?s)\\t\\t<a href=\"/pokearth/kanto/.*?.shtml\">(.*?)</a>\\t\\t</td>\\r\\n\\t\\t<td class=\"fooinfo\">(.*?)\\t\\t</td>\\r\\n\\t\\t<td class=\"fooinfo\">(.*?)\\t\\t</td>\\r\\n\\t\\t<td class=\"fooinfo\">(.*?)</td>\\r\\n\\t\\t<td class=\"fooinfo\">(.*?)</td>'\n",
    "\n",
    "locationstats = {}\n",
    "\n",
    "for key in dex:\n",
    "    locationstats[key] = {game[0]: re.findall(subsearchstring,game[1],re.IGNORECASE) for game in re.findall(searchstring, locations[key], re.IGNORECASE)}"
   ]
  },
  {
   "cell_type": "code",
   "execution_count": 527,
   "metadata": {},
   "outputs": [],
   "source": [
    "trademinlevelsyellow = {'122': 8,\\\n",
    "                        '067': 16,\\\n",
    "                        '051': 15,\\\n",
    "                        '047': 13,\\\n",
    "                        '112': 15,\\\n",
    "                        '087': 15,\\\n",
    "                        '089': 25}\n",
    "\n",
    "trademinlevelsrb = {'122': 7,\\\n",
    "                    '029': 2,\\\n",
    "                    '030': 16,\\\n",
    "                    '108': 15,\\\n",
    "                    '124': 15,\\\n",
    "                    '083': 2,\\\n",
    "                    '086': 28,\\\n",
    "                    '101': 3,\\\n",
    "                    '114': 13}\n",
    "\n",
    "def get_max_level(pkmn,game):\n",
    "    try:\n",
    "        wildmax = max([int(spot[-1]) for spot in locationstats[pkmn][game] if spot[-1].isdigit()])\n",
    "    except:\n",
    "        wildmax = 0\n",
    "    \n",
    "    if games.index(game) == 3:\n",
    "        if pkmn in [row[0] for row in tradesyellow]:\n",
    "            trademax = 100\n",
    "        else:\n",
    "            trademax = 0\n",
    "        if pkmn in [row[0] for row in giftsyellow]:\n",
    "            giftlevel = int(giftsyellow[[row[0] for row in giftsyellow].index(pkmn)][1])\n",
    "        else:\n",
    "            giftlevel = 0\n",
    "    else:\n",
    "        if pkmn in [row[0] for row in tradesrb]:\n",
    "            trademax = 100\n",
    "        else:\n",
    "            trademax = 0\n",
    "        if pkmn in [row[0] for row in giftsrb]:\n",
    "            giftlevel = int(giftsrb[[row[0] for row in giftsrb].index(pkmn)][1])\n",
    "        else:\n",
    "            giftlevel = 0\n",
    "    maxlevel = max([wildmax,trademax,giftlevel])\n",
    "    \n",
    "    if maxlevel == 0:\n",
    "        return ''\n",
    "    else:\n",
    "        return maxlevel\n",
    "    \n",
    "def get_min_level(pkmn,game):\n",
    "    try:\n",
    "        wildmin = min([int(spot[-2]) for spot in locationstats[pkmn][game] if spot[-2].isdigit()])\n",
    "    except:\n",
    "        wildmin = 101\n",
    "    \n",
    "    if games.index(game) == 3:\n",
    "        if pkmn in [row[0] for row in tradesyellow]:\n",
    "            trademin = trademinlevelsyellow[pkmn]\n",
    "        else:\n",
    "            trademin = 101\n",
    "        if pkmn in [row[0] for row in giftsyellow]:\n",
    "            giftlevel = int(giftsyellow[[row[0] for row in giftsyellow].index(pkmn)][1])\n",
    "        else:\n",
    "            giftlevel = 101\n",
    "    else:\n",
    "        if pkmn in [row[0] for row in tradesrb]:\n",
    "            trademin = trademinlevelsrb[pkmn]\n",
    "        else:\n",
    "            trademin = 101\n",
    "        if pkmn in [row[0] for row in giftsrb]:\n",
    "            giftlevel = int(giftsrb[[row[0] for row in giftsrb].index(pkmn)][1])\n",
    "        else:\n",
    "            giftlevel = 101\n",
    "    minlevel = min([wildmin,trademin,giftlevel])\n",
    "    \n",
    "    if minlevel == 101:\n",
    "        return ''\n",
    "    else:\n",
    "        return minlevel\n",
    "\n",
    "maxlevels = {key: [get_max_level(key,game) for game in games] for key in dex}\n",
    "minlevels = {key: [get_min_level(key,game) for game in games] for key in dex}"
   ]
  },
  {
   "cell_type": "code",
   "execution_count": 536,
   "metadata": {},
   "outputs": [],
   "source": [
    "def calc_max_stats(key,game):\n",
    "    if get_max_level(key,game)=='':\n",
    "        return ''\n",
    "    else:\n",
    "        level = maxlevels[key][games.index(game)]\n",
    "        hp = math.floor((stats[key][1]+15)*2*level/100.0)+level+10\n",
    "        other = [math.floor((stat+15)*2*level/100.0)+5 for stat in stats[key][2:]]\n",
    "        return hp+sum(other)\n",
    "    \n",
    "def calc_min_stats(key,game):\n",
    "    if get_min_level(key,game)=='':\n",
    "        return ''\n",
    "    else:\n",
    "        level = minlevels[key][games.index(game)]\n",
    "        hp = math.floor(stats[key][1]*2*level/100.0)+level+10\n",
    "        other = [math.floor(stat*2*level/100.0+5)for stat in stats[key][2:]]\n",
    "        return hp+sum(other)\n",
    "    \n",
    "maxstattotals = {game: {key: calc_max_stats(key,game) for key in dex} for game in games}\n",
    "minstattotals = {game: {key: calc_min_stats(key,game) for key in dex} for game in games}\n",
    "\n",
    "def return_all_stats(key,game):\n",
    "    return [int(key)] + [dex[key]] + stats[key] + [minlevels[key][games.index(game)]] + [minstattotals[game][key]] + [minlevels[key][games.index(game)]*stats[key][0]] + [maxlevels[key][games.index(game)]] + [maxstattotals[game][key]] + [maxlevels[key][games.index(game)]*stats[key][0]]\n",
    "\n",
    "all_stats = {game: [return_all_stats(key,game) for key in dex] for game in games}"
   ]
  },
  {
   "cell_type": "code",
   "execution_count": 537,
   "metadata": {},
   "outputs": [],
   "source": [
    "with open(\"pkmnred.csv\",\"w+\") as my_csv:\n",
    "    csvWriter = csv.writer(my_csv,delimiter=',')\n",
    "    csvWriter.writerows(all_stats[games[0]])"
   ]
  },
  {
   "cell_type": "code",
   "execution_count": 538,
   "metadata": {},
   "outputs": [],
   "source": [
    "with open(\"pkmnyellow.csv\",\"w+\") as my_csv:\n",
    "    csvWriter = csv.writer(my_csv,delimiter=',')\n",
    "    csvWriter.writerows(all_stats[games[3]])"
   ]
  },
  {
   "cell_type": "markdown",
   "metadata": {},
   "source": [
    "## Gen II"
   ]
  },
  {
   "cell_type": "markdown",
   "metadata": {},
   "source": [
    "### Import data"
   ]
  },
  {
   "cell_type": "code",
   "execution_count": 543,
   "metadata": {},
   "outputs": [],
   "source": [
    "if(not(os.path.isdir('gen_ii_htmls'))):\n",
    "    os.mkdir('gen_ii_htmls')"
   ]
  },
  {
   "cell_type": "code",
   "execution_count": 553,
   "metadata": {},
   "outputs": [],
   "source": [
    "url = \"https://www.serebii.net/pokedex-gs/\"\n",
    "\n",
    "urllib.request.urlretrieve(url, \"gen_ii_htmls/gen_ii.txt\")\n",
    "\n",
    "outputFile = codecs.open(\"gen_ii_htmls/gen_ii.txt\", \"r\", \"ISO-8859-1\")\n",
    "filestring = outputFile.read()\n",
    "\n",
    "dex = dict(re.findall(\"(?s)<option value=\\\"/pokedex-gs/(.*?).shtml\\\">(.*?)</option>\", filestring, re.IGNORECASE))"
   ]
  },
  {
   "cell_type": "code",
   "execution_count": 554,
   "metadata": {},
   "outputs": [],
   "source": [
    "# Gold and Silver Trades\n",
    "url = 'https://www.serebii.net/gs/trades.shtml'\n",
    "filename = 'gen_ii_htmls/tradesgs.txt'\n",
    "\n",
    "urllib.request.urlretrieve(url, filename)\n",
    "\n",
    "outputFile = codecs.open(filename, \"r\", \"ISO-8859-1\")\n",
    "tradesourcegs = outputFile.read()\n",
    "\n",
    "\n",
    "# Yellow Trades\n",
    "url = 'https://www.serebii.net/crystal/trades.shtml'\n",
    "filename = 'gen_ii_htmls/tradescrystal.txt'\n",
    "\n",
    "urllib.request.urlretrieve(url, filename)\n",
    "\n",
    "outputFile = codecs.open(filename, \"r\", \"ISO-8859-1\")\n",
    "tradesourcecrystal = outputFile.read()\n",
    "\n",
    "\n",
    "# Red and Blue Gifts\n",
    "url = 'https://www.serebii.net/gs/gift.shtml'\n",
    "filename = 'gen_ii_htmls/giftsgs.txt'\n",
    "\n",
    "urllib.request.urlretrieve(url, filename)\n",
    "\n",
    "outputFile = codecs.open(filename, \"r\", \"ISO-8859-1\")\n",
    "giftsourcegs = outputFile.read()\n",
    "\n",
    "# Yellow Gifts\n",
    "url = 'https://www.serebii.net/crystal/gift.shtml'\n",
    "filename = 'gen_ii_htmls/giftscrystal.txt'\n",
    "\n",
    "urllib.request.urlretrieve(url, filename)\n",
    "\n",
    "outputFile = codecs.open(filename, \"r\", \"ISO-8859-1\")\n",
    "giftsourcecrystal = outputFile.read()"
   ]
  },
  {
   "cell_type": "code",
   "execution_count": 556,
   "metadata": {},
   "outputs": [],
   "source": [
    "info = {}\n",
    "\n",
    "for key in dex:\n",
    "    url = \"https://www.serebii.net/pokedex-gs/\" + key + \".shtml\"\n",
    "    file = \"gen_ii_htmls/\" + dex[key] + \".txt\"\n",
    "    \n",
    "    urllib.request.urlretrieve(url, file)\n",
    "    \n",
    "    outputFile = codecs.open(file, \"r\", \"ISO-8859-1\")\n",
    "    info[key] = outputFile.read()"
   ]
  },
  {
   "cell_type": "code",
   "execution_count": 611,
   "metadata": {},
   "outputs": [],
   "source": [
    "locations = {}\n",
    "\n",
    "for key in dex:\n",
    "    url = \"https://www.serebii.net/pokedex-gs/location/\" + key + \".shtml#r\"\n",
    "    file = \"gen_ii_htmls/\" + dex[key] + \"_loc\" +\".txt\"\n",
    "    \n",
    "    urllib.request.urlretrieve(url, file)\n",
    "    \n",
    "    outputFile = codecs.open(file, \"r\", \"ISO-8859-1\")\n",
    "    locations[key] = outputFile.read()"
   ]
  },
  {
   "cell_type": "markdown",
   "metadata": {},
   "source": [
    "### Parse Data"
   ]
  },
  {
   "cell_type": "code",
   "execution_count": 562,
   "metadata": {},
   "outputs": [],
   "source": [
    "searchstring = '(?s)Base Stats - Total: (.*?)</td>\\r\\n<td align=\"center\" class=\"fooinfo\">(.*?)</td>\\r\\n<td align=\"center\" class=\"fooinfo\">(.*?)</td>\\r\\n<td align=\"center\" class=\"fooinfo\">(.*?)</td>\\r\\n<td align=\"center\" class=\"fooinfo\">(.*?)</td>\\r\\n<td align=\"center\" class=\"fooinfo\">(.*?)</td>\\r\\n<td align=\"center\" class=\"fooinfo\">(.*?)</td></tr>\\r\\n'\n",
    "stats = {}\n",
    "\n",
    "for key in dex:\n",
    "    stats[key] = [int(num) for num in re.findall(searchstring, info[key], re.IGNORECASE)[0]]"
   ]
  },
  {
   "cell_type": "code",
   "execution_count": 573,
   "metadata": {},
   "outputs": [],
   "source": [
    "searchstring = '(?s)<img src=\"/pokearth/sprites/.*?/(.*?).png\" border=\"0\" title=\"\" />.*?Trader requests a.*?<a href=\"/pokedex-.*?/(.*?).shtml\">'\n",
    "tradesgs = re.findall(searchstring,tradesourcegs,re.IGNORECASE)\n",
    "\n",
    "searchstring = '(?s)<img src=\"/pokearth/sprites/.*?/(.*?).png\" border=\"0\" title=\"\" />.*?Trader requests a.*?<a href=\"/pokedex-.*?/(.*?).shtml\">'\n",
    "tradescrystal = re.findall(searchstring,tradesourcecrystal,re.IGNORECASE)"
   ]
  },
  {
   "cell_type": "code",
   "execution_count": 598,
   "metadata": {},
   "outputs": [],
   "source": [
    "searchstring = '(?s)<td class=\"label\">.*?</td></tr><tr><td class=\"pkmn\"><a href=\"/pokedex-gs/(.*?).shtml\"><img  src=\"/pokearth/sprites/gold/.*?.png\" border=\"0\" title=\".*?\" /></a></td></tr><tr>\\r\\n\\t\\t<td class=\"label\">Level (.*?)</td>'\n",
    "giftsgs = re.findall(searchstring,giftsourcegs,re.IGNORECASE)\n",
    "\n",
    "searchstring = '(?s)<td class=\"label\">.*?</td></tr><tr><td class=\"pkmn\"><a href=\"/pokedex-gs/(.*?).shtml\"><img  src=\"/pokearth/sprites/crystal/.*?.png\" border=\"0\" title=\".*?\" /></a></td></tr><tr>\\r\\n\\t\\t<td class=\"label\">Level (.*?)</td>'\n",
    "giftscrystal = re.findall(searchstring,giftsourcecrystal,re.IGNORECASE)"
   ]
  },
  {
   "cell_type": "code",
   "execution_count": 637,
   "metadata": {},
   "outputs": [],
   "source": [
    "searchstring = '(?s)<table class=\"dextable\"><tr > <td class=\"fooevo\" colspan=\"6\"><a name=\".*?\">(.*?)</a></td></tr>(.*?)</table>\\r\\n'\n",
    "\n",
    "subsearchstring = '(?s)\\t\\t<a href=\"/pokearth/.*?/2nd/.*?.shtml\">(.*?)</a>\\t\\t</td>\\r\\n\\t\\t<td class=\"fooinfo\">(.*?)\\t\\t</td><td class=\"fooinfo\">(.*?)\\t</td>\\r\\n\\t\\t<td class=\"fooinfo\">(.*?)\\t\\t</td>\\r\\n\\t\\t<td class=\"fooinfo\">(.*?)</td>\\r\\n\\t\\t<td class=\"fooinfo\">(.*?)</td>\\r\\n'\n",
    "\n",
    "locationstats = {}\n",
    "\n",
    "for key in dex:\n",
    "    locationstats[key] = {game[0]: re.findall(subsearchstring,game[1],re.IGNORECASE) for game in re.findall(searchstring, locations[key], re.IGNORECASE)}"
   ]
  },
  {
   "cell_type": "code",
   "execution_count": 638,
   "metadata": {},
   "outputs": [],
   "source": [
    "games = [key for key in locationstats['010']]"
   ]
  },
  {
   "cell_type": "code",
   "execution_count": 654,
   "metadata": {},
   "outputs": [],
   "source": [
    "trademinlevelsgs = {'095': 3,\\\n",
    "                    '066': 5,\\\n",
    "                    '100': 5,\\\n",
    "                    '112': 30,\\\n",
    "                    '078': 14,\\\n",
    "                    '142': 5}\n",
    "\n",
    "trademinlevelscrystal = {'095': 3,\\\n",
    "                         '066': 5,\\\n",
    "                         '100': 5,\\\n",
    "                         '085': 30,\\\n",
    "                         '178': 15,\\\n",
    "                         '082': 16,\\\n",
    "                         '142': 5}\n",
    "\n",
    "def get_max_level(pkmn,game):\n",
    "    try:\n",
    "        wildmax = max([int(spot[-1]) for spot in locationstats[pkmn][game] if spot[-1].isdigit()])\n",
    "    except:\n",
    "        wildmax = 0\n",
    "    \n",
    "    if games.index(game) == 2:\n",
    "        if pkmn in [row[0] for row in tradescrystal]:\n",
    "            trademax = 100\n",
    "        else:\n",
    "            trademax = 0\n",
    "        if pkmn in [row[0] for row in giftscrystal]:\n",
    "            giftlevel = int(giftscrystal[[row[0] for row in giftscrystal].index(pkmn)][1])\n",
    "        else:\n",
    "            giftlevel = 0\n",
    "    else:\n",
    "        if pkmn in [row[0] for row in tradesgs]:\n",
    "            trademax = 100\n",
    "        else:\n",
    "            trademax = 0\n",
    "        if pkmn in [row[0] for row in giftsgs]:\n",
    "            giftlevel = int(giftsgs[[row[0] for row in giftsgs].index(pkmn)][1])\n",
    "        else:\n",
    "            giftlevel = 0\n",
    "    maxlevel = max([wildmax,trademax,giftlevel])\n",
    "    \n",
    "    if maxlevel == 0:\n",
    "        return ''\n",
    "    else:\n",
    "        return maxlevel\n",
    "    \n",
    "def get_min_level(pkmn,game):\n",
    "    try:\n",
    "        wildmin = min([int(spot[-2]) for spot in locationstats[pkmn][game] if spot[-2].isdigit()])\n",
    "    except:\n",
    "        wildmin = 101\n",
    "    \n",
    "    if games.index(game) == 2:\n",
    "        if pkmn in [row[0] for row in tradescrystal]:\n",
    "            trademin = trademinlevelscrystal[pkmn]\n",
    "        else:\n",
    "            trademin = 101\n",
    "        if pkmn in [row[0] for row in giftscrystal]:\n",
    "            giftlevel = int(giftscrystal[[row[0] for row in giftscrystal].index(pkmn)][1])\n",
    "        else:\n",
    "            giftlevel = 101\n",
    "    else:\n",
    "        if pkmn in [row[0] for row in tradesgs]:\n",
    "            trademin = trademinlevelsgs[pkmn]\n",
    "        else:\n",
    "            trademin = 101\n",
    "        if pkmn in [row[0] for row in giftsgs]:\n",
    "            giftlevel = int(giftsgs[[row[0] for row in giftsgs].index(pkmn)][1])\n",
    "        else:\n",
    "            giftlevel = 101\n",
    "    minlevel = min([wildmin,trademin,giftlevel])\n",
    "    \n",
    "    if minlevel == 101:\n",
    "        return ''\n",
    "    else:\n",
    "        return minlevel\n",
    "\n",
    "maxlevels = {key: [get_max_level(key,game) for game in games] for key in dex}\n",
    "minlevels = {key: [get_min_level(key,game) for game in games] for key in dex}"
   ]
  },
  {
   "cell_type": "code",
   "execution_count": 655,
   "metadata": {},
   "outputs": [],
   "source": [
    "def calc_max_stats(key,game):\n",
    "    if get_max_level(key,game)=='':\n",
    "        return ''\n",
    "    else:\n",
    "        level = maxlevels[key][games.index(game)]\n",
    "        hp = math.floor((stats[key][1]+15)*2*level/100.0)+level+10\n",
    "        other = [math.floor((stat+15)*2*level/100.0)+5 for stat in stats[key][2:]]\n",
    "        return hp+sum(other)\n",
    "    \n",
    "def calc_min_stats(key,game):\n",
    "    if get_min_level(key,game)=='':\n",
    "        return ''\n",
    "    else:\n",
    "        level = minlevels[key][games.index(game)]\n",
    "        hp = math.floor(stats[key][1]*2*level/100.0)+level+10\n",
    "        other = [math.floor(stat*2*level/100.0+5)for stat in stats[key][2:]]\n",
    "        return hp+sum(other)\n",
    "    \n",
    "maxstattotals = {game: {key: calc_max_stats(key,game) for key in dex} for game in games}\n",
    "minstattotals = {game: {key: calc_min_stats(key,game) for key in dex} for game in games}\n",
    "\n",
    "def return_all_stats(key,game):\n",
    "    return [int(key)] + [dex[key]] + stats[key] + [minlevels[key][games.index(game)]] + [minstattotals[game][key]] + [minlevels[key][games.index(game)]*stats[key][0]] + [maxlevels[key][games.index(game)]] + [maxstattotals[game][key]] + [maxlevels[key][games.index(game)]*stats[key][0]]\n",
    "\n",
    "all_stats = {game: [return_all_stats(key,game) for key in dex] for game in games}"
   ]
  },
  {
   "cell_type": "code",
   "execution_count": 656,
   "metadata": {},
   "outputs": [],
   "source": [
    "with open(\"pkmngold.csv\",\"w+\") as my_csv:\n",
    "    csvWriter = csv.writer(my_csv,delimiter=',')\n",
    "    csvWriter.writerows(all_stats[games[0]])"
   ]
  },
  {
   "cell_type": "code",
   "execution_count": 657,
   "metadata": {},
   "outputs": [],
   "source": [
    "with open(\"pkmncrystal.csv\",\"w+\") as my_csv:\n",
    "    csvWriter = csv.writer(my_csv,delimiter=',')\n",
    "    csvWriter.writerows(all_stats[games[2]])"
   ]
  },
  {
   "cell_type": "markdown",
   "metadata": {},
   "source": [
    "## Gen III"
   ]
  },
  {
   "cell_type": "markdown",
   "metadata": {},
   "source": [
    "### Import data"
   ]
  },
  {
   "cell_type": "code",
   "execution_count": 658,
   "metadata": {},
   "outputs": [],
   "source": [
    "if(not(os.path.isdir('gen_iii_htmls'))):\n",
    "    os.mkdir('gen_iii_htmls')"
   ]
  },
  {
   "cell_type": "code",
   "execution_count": 670,
   "metadata": {},
   "outputs": [],
   "source": [
    "url = \"https://www.serebii.net/pokedex-rs/\"\n",
    "\n",
    "urllib.request.urlretrieve(url, \"gen_iii_htmls/gen_iii.txt\")\n",
    "\n",
    "outputFile = codecs.open(\"gen_iii_htmls/gen_iii.txt\", \"r\", \"ISO-8859-1\")\n",
    "filestring = outputFile.read()\n",
    "\n",
    "dex = dict(re.findall(\"(?s)<option value=\\\"/pokedex-rs/(.*?).shtml\\\">[0-9][0-9][0-9] (.*?)\\r\\r\\n\", filestring, re.IGNORECASE))"
   ]
  },
  {
   "cell_type": "code",
   "execution_count": 745,
   "metadata": {},
   "outputs": [],
   "source": [
    "# Ruby and Sapphire Trades\n",
    "url = 'https://www.serebii.net/rubysapphire/trade.shtml'\n",
    "filename = 'gen_iii_htmls/tradesrs.txt'\n",
    "\n",
    "urllib.request.urlretrieve(url, filename)\n",
    "\n",
    "outputFile = codecs.open(filename, \"r\", \"ISO-8859-1\")\n",
    "tradesourcers = outputFile.read()\n",
    "\n",
    "\n",
    "# Emerald Trades\n",
    "url = 'https://www.serebii.net/emerald/trade.shtml'\n",
    "filename = 'gen_iii_htmls/tradesemerald.txt'\n",
    "\n",
    "urllib.request.urlretrieve(url, filename)\n",
    "\n",
    "outputFile = codecs.open(filename, \"r\", \"ISO-8859-1\")\n",
    "tradesourceemerald = outputFile.read()\n",
    "\n",
    "\n",
    "# Ruby, Sapphire, Emerald Gifts\n",
    "url = 'https://www.serebii.net/rubysapphire/gift.shtml'\n",
    "filename = 'gen_iii_htmls/giftsrse.txt'\n",
    "\n",
    "urllib.request.urlretrieve(url, filename)\n",
    "\n",
    "outputFile = codecs.open(filename, \"r\", \"ISO-8859-1\")\n",
    "giftsourcerse = outputFile.read()\n",
    "\n",
    "# FireRed and LeafGreen Trades\n",
    "url = 'https://www.serebii.net/fireredleafgreen/trades.shtml'\n",
    "filename = 'gen_iii_htmls/tradesfrlg.txt'\n",
    "\n",
    "urllib.request.urlretrieve(url, filename)\n",
    "\n",
    "outputFile = codecs.open(filename, \"r\", \"ISO-8859-1\")\n",
    "tradesourcefrlg = outputFile.read()\n",
    "\n",
    "# FireRed and LeafGreen Gifts\n",
    "url = 'https://www.serebii.net/fireredleafgreen/gift.shtml'\n",
    "filename = 'gen_iii_htmls/giftsfrlg.txt'\n",
    "\n",
    "urllib.request.urlretrieve(url, filename)\n",
    "\n",
    "outputFile = codecs.open(filename, \"r\", \"ISO-8859-1\")\n",
    "giftsourcefrlg = outputFile.read()"
   ]
  },
  {
   "cell_type": "code",
   "execution_count": 673,
   "metadata": {},
   "outputs": [],
   "source": [
    "info = {}\n",
    "\n",
    "for key in dex:\n",
    "    url = \"https://www.serebii.net/pokedex-rs/\" + key + \".shtml\"\n",
    "    file = \"gen_iii_htmls/\" + dex[key] + \".txt\"\n",
    "    \n",
    "    urllib.request.urlretrieve(url, file)\n",
    "    \n",
    "    outputFile = codecs.open(file, \"r\", \"ISO-8859-1\")\n",
    "    info[key] = outputFile.read()"
   ]
  },
  {
   "cell_type": "code",
   "execution_count": 675,
   "metadata": {},
   "outputs": [],
   "source": [
    "locations = {}\n",
    "\n",
    "for key in dex:\n",
    "    url = \"https://www.serebii.net/pokedex-rs/location/\" + key + \".shtml#r\"\n",
    "    file = \"gen_iii_htmls/\" + dex[key] + \"_loc\" +\".txt\"\n",
    "    \n",
    "    urllib.request.urlretrieve(url, file)\n",
    "    \n",
    "    outputFile = codecs.open(file, \"r\", \"ISO-8859-1\")\n",
    "    locations[key] = outputFile.read()"
   ]
  },
  {
   "cell_type": "markdown",
   "metadata": {},
   "source": [
    "### Parse Data"
   ]
  },
  {
   "cell_type": "code",
   "execution_count": 679,
   "metadata": {},
   "outputs": [],
   "source": [
    "searchstring = '(?s)<td>Base Stats</td><td align=\"center\">(.*?)</td><td align=\"center\">(.*?)</td><td align=\"center\">(.*?)</td><td align=\"center\">(.*?)</td><td align=\"center\">(.*?)</td><td align=\"center\">(.*?)</td>'\n",
    "stats = {}\n",
    "\n",
    "for key in dex:\n",
    "    statsind = [int(num) for num in re.findall(searchstring, info[key], re.IGNORECASE)[0]]\n",
    "    stats[key] = [sum(statsind)] + statsind"
   ]
  },
  {
   "cell_type": "code",
   "execution_count": 752,
   "metadata": {},
   "outputs": [],
   "source": [
    "searchstring = '(?s)<img src=\"/pokearth/sprites/.*?/(.*?).png\" border=\"0\" title=\"\" />.*?Trader requests a.*?<a href=\"/pokedex-.*?/(.*?).shtml\">'\n",
    "tradesrs = re.findall(searchstring,tradesourcers,re.IGNORECASE)\n",
    "\n",
    "searchstring = '(?s)<a href=\"/pokedex-rs/dex.php\\?id=(.*?)\"><img src=\"/emerald/pokemon/.*?.png\" border=></a>.*?<img src=\"/emerald/items/.*?.gif\" align=\"left\"><a href=\"/pokedex-rs/dex.php\\?id=.*?\">#(.*?) .*?</a><br>'\n",
    "tradesemerald = [(row[1],row[0]) for row in re.findall(searchstring,tradesourceemerald,re.IGNORECASE)]\n",
    "\n",
    "searchstring = '(?s)<img src=\"/pokearth/sprites/.*?/(.*?).png\" border=\"0\" title=\"\" />.*?Trader requests a.*?<a href=\"/pokedex-.*?/(.*?).shtml\">'\n",
    "tradesfrlg = re.findall(searchstring,tradesourcefrlg,re.IGNORECASE)"
   ]
  },
  {
   "cell_type": "code",
   "execution_count": 753,
   "metadata": {},
   "outputs": [],
   "source": [
    "searchstring = '(?s)<td class=\"label\">.*?</td></tr><tr><td class=\"pkmn\"><a href=\"/pokedex-rs/(.*?).shtml\"><img  src=\"/pokearth/sprites/.*?/.*?.png\" border=\"0\" title=\".*?\" /></a></td></tr><tr>\\r\\n\\t\\t<td class=\"label\">Level (.*?)</td>'\n",
    "giftsrse = re.findall(searchstring,giftsourcerse,re.IGNORECASE)\n",
    "\n",
    "searchstring = '(?s)<td class=\"label\">.*?</td></tr><tr><td class=\"pkmn\"><a href=\"/pokedex-rs/(.*?).shtml\"><img  src=\"/pokearth/sprites/.*?/.*?.png\" border=\"0\" title=\".*?\" /></a></td></tr><tr>\\r\\n\\t\\t<td class=\"label\">Level (.*?)</td>'\n",
    "giftsfrlg = re.findall(searchstring,giftsourcefrlg,re.IGNORECASE)"
   ]
  },
  {
   "cell_type": "code",
   "execution_count": 730,
   "metadata": {},
   "outputs": [],
   "source": [
    "searchstring = '(?s)<table class=\"dextable\"><tr > <td class=\"fooevo\" colspan=\"6\"><a name=\".*?\">(.*?)</a></td></tr>\\n(.*?)</table>'\n",
    "\n",
    "subsearchstring = '(?s)\\t\\t<td align=\"center\" class=\"fooinfo\"><a href=\"/pokearth/.*?/.*?.shtml\">(.*?)</a><td align=\"center\" class=\"fooinfo\">(.*?)</td>\\n<td align=\"center\" class=\"fooinfo\">(.*?)</td>\\n<td align=\"center\" class=\"fooinfo\">(.*?)</td>\\n<td align=\"center\" class=\"fooinfo\">(.*?)</td>'\n",
    "\n",
    "locationstats = {}\n",
    "\n",
    "for key in dex:\n",
    "    locationstats[key] = {game[0]: re.findall(subsearchstring,game[1],re.IGNORECASE) for game in re.findall(searchstring, locations[key], re.IGNORECASE)}"
   ]
  },
  {
   "cell_type": "code",
   "execution_count": 754,
   "metadata": {},
   "outputs": [],
   "source": [
    "games = [key for key in locationstats['129']]"
   ]
  },
  {
   "cell_type": "code",
   "execution_count": 759,
   "metadata": {},
   "outputs": [],
   "source": [
    "trademinlevelsrs = {'296': 5,\\\n",
    "                    '300': 3,\\\n",
    "                    '222': 21}\n",
    "\n",
    "trademinlevelsemerald = {'311': 12,\\\n",
    "                         '116': 5,\\\n",
    "                         '052': 5}\n",
    "\n",
    "trademinlevelsfrlg = {'122': 5,\\\n",
    "                      '029': 5,\\\n",
    "                      '032': 5,\\\n",
    "                      '030': 16,\\\n",
    "                      '033': 16,\\\n",
    "                      '108': 25,\\\n",
    "                      '124': 20,\\\n",
    "                      '083': 3,\\\n",
    "                      '086': 5,\\\n",
    "                      '101': 3,\\\n",
    "                      '114': 5}\n",
    "\n",
    "def get_max_level(pkmn,game):\n",
    "    try:\n",
    "        wildmax = max([int(spot[-1]) for spot in locationstats[pkmn][game] if spot[-1].isdigit()])\n",
    "    except:\n",
    "        wildmax = 0\n",
    "    \n",
    "    if games.index(game) < 2:\n",
    "        if pkmn in [row[0] for row in tradesrs]:\n",
    "            trademax = 100\n",
    "        else:\n",
    "            trademax = 0\n",
    "            \n",
    "        if pkmn in [row[0] for row in giftsrse]:\n",
    "            giftlevel = int(giftsrse[[row[0] for row in giftsrse].index(pkmn)][1])\n",
    "        else:\n",
    "            giftlevel = 0\n",
    "    elif games.index(game) == 2:\n",
    "        if pkmn in [row[0] for row in tradesemerald]:\n",
    "            trademax = 100\n",
    "        else:\n",
    "            trademax = 0\n",
    "            \n",
    "        if pkmn in [row[0] for row in giftsrse]:\n",
    "            giftlevel = int(giftsrse[[row[0] for row in giftsrse].index(pkmn)][1])\n",
    "        else:\n",
    "            giftlevel = 0\n",
    "    else:\n",
    "        if pkmn in [row[0] for row in tradesfrlg]:\n",
    "            trademax = 100\n",
    "        else:\n",
    "            trademax = 0\n",
    "            \n",
    "        if pkmn in [row[0] for row in giftsfrlg]:\n",
    "            giftlevel = int(giftsfrlg[[row[0] for row in giftsfrlg].index(pkmn)][1])\n",
    "        else:\n",
    "            giftlevel = 0\n",
    "    maxlevel = max([wildmax,trademax,giftlevel])\n",
    "    \n",
    "    if maxlevel == 0:\n",
    "        return ''\n",
    "    else:\n",
    "        return maxlevel\n",
    "    \n",
    "def get_min_level(pkmn,game):\n",
    "    try:\n",
    "        wildmin = min([int(spot[-2]) for spot in locationstats[pkmn][game] if spot[-2].isdigit()])\n",
    "    except:\n",
    "        wildmin = 101\n",
    "    \n",
    "    if games.index(game) < 2:\n",
    "        if pkmn in [row[0] for row in tradesrs]:\n",
    "            trademin = trademinlevelsrs[pkmn]\n",
    "        else:\n",
    "            trademin = 101\n",
    "        if pkmn in [row[0] for row in giftsrse]:\n",
    "            giftlevel = int(giftsrse[[row[0] for row in giftsrse].index(pkmn)][1])\n",
    "        else:\n",
    "            giftlevel = 101\n",
    "    elif games.index(game) == 2:\n",
    "        if pkmn in [row[0] for row in tradesemerald]:\n",
    "            trademin = trademinlevelsemerald[pkmn]\n",
    "        else:\n",
    "            trademin = 101\n",
    "        if pkmn in [row[0] for row in giftsrse]:\n",
    "            giftlevel = int(giftsrse[[row[0] for row in giftsrse].index(pkmn)][1])\n",
    "        else:\n",
    "            giftlevel = 101\n",
    "    else:\n",
    "        if pkmn in [row[0] for row in tradesfrlg]:\n",
    "            trademin = trademinlevelsfrlg[pkmn]\n",
    "        else:\n",
    "            trademin = 101\n",
    "        if pkmn in [row[0] for row in giftsfrlg]:\n",
    "            giftlevel = int(giftsfrlg[[row[0] for row in giftsfrlg].index(pkmn)][1])\n",
    "        else:\n",
    "            giftlevel = 101\n",
    "    minlevel = min([wildmin,trademin,giftlevel])\n",
    "    \n",
    "    if minlevel == 101:\n",
    "        return ''\n",
    "    else:\n",
    "        return minlevel\n",
    "\n",
    "maxlevels = {key: [get_max_level(key,game) for game in games] for key in dex}\n",
    "minlevels = {key: [get_min_level(key,game) for game in games] for key in dex}"
   ]
  },
  {
   "cell_type": "code",
   "execution_count": 772,
   "metadata": {},
   "outputs": [],
   "source": [
    "def calc_max_stats(key,game):\n",
    "    if get_max_level(key,game)=='':\n",
    "        return ''\n",
    "    else:\n",
    "        level = maxlevels[key][games.index(game)]\n",
    "        hp = math.floor((stats[key][1]*2+31)*level/100.0)+level+10\n",
    "        nonhpstats = stats[key][2:]\n",
    "        nature = [1.0 for stat in nonhpstats]\n",
    "        minstat = nonhpstats.index(min(nonhpstats))\n",
    "        maxstat = nonhpstats.index(max(nonhpstats))\n",
    "        nature[maxstat] = 1.1\n",
    "        nature[minstat] = 0.9\n",
    "        other = [math.floor((math.floor((nonhpstats[i]*2+31)*level/100.0)+5)*nature[i]) for i in range(len(nonhpstats))]\n",
    "        return hp+sum(other)\n",
    "    \n",
    "def calc_min_stats(key,game):\n",
    "    if get_min_level(key,game)=='':\n",
    "        return ''\n",
    "    else:\n",
    "        level = minlevels[key][games.index(game)]\n",
    "        hp = math.floor((stats[key][1]*2)*level/100.0)+level+10\n",
    "        nonhpstats = stats[key][2:]\n",
    "        nature = [1.0 for stat in nonhpstats]\n",
    "        minstat = nonhpstats.index(min(nonhpstats))\n",
    "        maxstat = nonhpstats.index(max(nonhpstats))\n",
    "        nature[minstat] = 1.1\n",
    "        nature[maxstat] = 0.9\n",
    "        other = [math.floor((math.floor((nonhpstats[i]*2)*level/100.0)+5)*nature[i]) for i in range(len(nonhpstats))]\n",
    "        return hp+sum(other)\n",
    "    \n",
    "maxstattotals = {game: {key: calc_max_stats(key,game) for key in dex} for game in games}\n",
    "minstattotals = {game: {key: calc_min_stats(key,game) for key in dex} for game in games}\n",
    "\n",
    "def return_all_stats(key,game):\n",
    "    return [int(key)] + [dex[key]] + stats[key] + [minlevels[key][games.index(game)]] + [minstattotals[game][key]] + [minlevels[key][games.index(game)]*stats[key][0]] + [maxlevels[key][games.index(game)]] + [maxstattotals[game][key]] + [maxlevels[key][games.index(game)]*stats[key][0]]\n",
    "\n",
    "all_stats = {game: [return_all_stats(key,game) for key in dex] for game in games}"
   ]
  },
  {
   "cell_type": "code",
   "execution_count": 773,
   "metadata": {},
   "outputs": [],
   "source": [
    "with open(\"pkmnruby.csv\",\"w+\") as my_csv:\n",
    "    csvWriter = csv.writer(my_csv,delimiter=',')\n",
    "    csvWriter.writerows(all_stats[games[0]])"
   ]
  },
  {
   "cell_type": "code",
   "execution_count": 774,
   "metadata": {},
   "outputs": [],
   "source": [
    "with open(\"pkmnemerald.csv\",\"w+\") as my_csv:\n",
    "    csvWriter = csv.writer(my_csv,delimiter=',')\n",
    "    csvWriter.writerows(all_stats[games[2]])"
   ]
  },
  {
   "cell_type": "code",
   "execution_count": 775,
   "metadata": {},
   "outputs": [],
   "source": [
    "with open(\"pkmnfirered.csv\",\"w+\") as my_csv:\n",
    "    csvWriter = csv.writer(my_csv,delimiter=',')\n",
    "    csvWriter.writerows(all_stats[games[3]])"
   ]
  },
  {
   "cell_type": "code",
   "execution_count": null,
   "metadata": {},
   "outputs": [],
   "source": []
  }
 ],
 "metadata": {
  "kernelspec": {
   "display_name": "Python 3",
   "language": "python",
   "name": "python3"
  },
  "language_info": {
   "codemirror_mode": {
    "name": "ipython",
    "version": 3
   },
   "file_extension": ".py",
   "mimetype": "text/x-python",
   "name": "python",
   "nbconvert_exporter": "python",
   "pygments_lexer": "ipython3",
   "version": "3.7.1"
  }
 },
 "nbformat": 4,
 "nbformat_minor": 2
}
